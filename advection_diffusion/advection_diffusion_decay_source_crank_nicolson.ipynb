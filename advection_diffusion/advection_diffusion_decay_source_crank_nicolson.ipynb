{
 "metadata": {
  "name": "",
  "signature": "sha256:eef62a97596607133cd077e63c4a870a36fe6a26f2a02ec9c34d838e3394742a"
 },
 "nbformat": 3,
 "nbformat_minor": 0,
 "worksheets": [
  {
   "cells": [
    {
     "cell_type": "markdown",
     "metadata": {},
     "source": [
      "$$ \\frac {\\partial C}{dt} = D \\frac {\\partial^2 C}{dx^2} - w \\frac {\\partial C}{dx} - \\lambda C + P $$"
     ]
    },
    {
     "cell_type": "markdown",
     "metadata": {},
     "source": [
      "Discretise the equation\n",
      "\n",
      "$$\\frac {C^{t+1}_{x} - C^{t}_{x}}{\\Delta t} = \\frac {D}{2} \\Bigg(\\frac {C^{t+1}_{x+1} - 2C^{t+1}_{x} + C^{t+1}_{x-1}}{\\Delta x^2} + \\frac {C^{t}_{x+1} - 2C^{t}_{x} + C^{t}_{x-1}}{\\Delta x^2} \\Bigg) -\\frac {w}{2} \\Bigg( \\frac {C^{t+1}_{x+1} - C^{t+1}_{x-1}}{2 \\Delta x} + \\frac {C^{t}_{x+1} - C^{t}_{x-1}}{2 \\Delta x} \\Bigg) - \\frac{\\lambda}{2} \\Big( C^{t+1}_{x} + C^t_{x} \\Big) + P^t_x$$\n",
      "\n",
      "$$C^{t+1}_{x} = C^{t}_{x} + \\frac {D \\Delta t}{2 \\Delta x^2} \\Bigg( C^{t+1}_{x+1} - 2C^{t+1}_{x} + C^{t+1}_{x-1} + C^{t}_{x+1} - 2C^{t}_{x} + C^{t}_{x-1} \\Bigg) - \\frac {w \\Delta t}{4\\Delta x} \\Bigg(C^{t+1}_{x+1} - C^{t+1}_{x-1} + C^{t}_{x+1} - C^{t}_{x-1} \\Bigg) - \\frac{\\lambda \\Delta t}{2} \\Big( C^{t+1}_{x} + C^t_{x} \\Big) + \\Delta t P^t_x$$\n",
      "\n",
      "if $\\frac {w \\Delta t}{4\\Delta x} = \\sigma$, $\\frac {D \\Delta t}{2 \\Delta x^2} = \\rho$ and $\\frac{\\lambda \\Delta t}{2} = \\mu$\n",
      "\n",
      "$$C^{t+1}_{x} = C^{t}_{x} + \\rho C^{t+1}_{x+1} - 2\\rho C^{t+1}_{x} + \\rho C^{t+1}_{x-1} + \\rho C^{t}_{x+1} - 2\\rho C^{t}_{x} + \\rho C^{t}_{x-1} - \\sigma C^{t+1}_{x+1} + \\sigma C^{t+1}_{x-1} - \\sigma C^{t}_{x+1} + \\sigma C^{t}_{x-1} - \\mu C^{t+1}_{x} - \\mu C^t_{x} + \\Delta t P^t_x$$\n",
      "\n",
      "and rearranging,\n",
      "\n",
      "$$-(\\sigma + \\rho)C^{t+1}_{x-1} + (1 + 2\\rho + \\mu)C^{t+1}_{x} + (\\sigma - \\rho)C^{t+1}_{x+1} = (\\sigma + \\rho) C^{t}_{x-1} + (1 - 2\\rho - \\mu)C^{t}_{x} + (\\rho - \\sigma) C^{t}_{x+1} + \\Delta t P^t_x$$\n",
      "\n",
      "gives the discretised equation for $x > 1, x < L$.\n"
     ]
    },
    {
     "cell_type": "markdown",
     "metadata": {},
     "source": [
      "$$-(\\sigma + \\rho)C^{t+1}_{-1} + (1 + 2\\rho + \\mu)C^{t+1}_{0} + (\\sigma - \\rho)C^{t+1}_{1} = (\\sigma + \\rho) C^{t}_{-1} + (1 - 2\\rho - \\mu)C^{t}_{0} + (\\rho - \\sigma) C^{t}_{1} + \\Delta t P^t_x$$\n",
      "\n",
      "$$-(\\sigma + \\rho)C^{t+1}_{0} + (1 + 2\\rho + \\mu)C^{t+1}_{0} + (\\sigma - \\rho)C^{t+1}_{1} = (\\sigma + \\rho)C^{t}_{0} + (1 - 2\\rho - \\mu)C^{t}_{0} + (\\rho - \\sigma) C^{t}_{1} + \\Delta t P^t_x$$\n",
      "\n",
      "$$(1 - \\sigma + \\rho + \\mu)C^{t+1}_{0} + (\\sigma - \\rho)C^{t+1}_{1} = (1 + \\sigma - \\rho - \\mu)C^{t}_{0} + (\\rho - \\sigma) C^{t}_{1} + \\Delta t P^t_x$$\n",
      "\n",
      "\n",
      "\n",
      "$$-(\\sigma + \\rho)C^{t+1}_{L-2} + (1 + 2\\rho + \\mu)C^{t+1}_{L-1} + (\\sigma - \\rho)C^{t+1}_{L} = (\\sigma + \\rho) C^{t}_{L-2} + (1 - 2\\rho - \\mu)C^{t}_{L-1} + (\\rho - \\sigma) C^{t}_{L} + \\Delta t P^t_x$$\n",
      "\n",
      "$$-(\\sigma + \\rho)C^{t+1}_{L-2} + (1 + 2\\rho + \\mu)C^{t+1}_{L-1} + (\\sigma - \\rho)C^{t+1}_{L-1} = (\\sigma + \\rho)C^{t}_{L-2} + (1 - 2\\rho - \\mu)C^{t}_{L-1} + (\\rho - \\sigma) C^{t}_{L-1} + \\Delta t P^t_x$$\n",
      "\n",
      "$$-(\\sigma + \\rho)C^{t+1}_{L-2} + (1 + \\sigma + \\rho +\\mu)C^{t+1}_{L-1} = (\\sigma + \\rho)C^{t}_{L-2} + (1 - \\sigma - \\rho - \\mu)C^{t}_{L-1} + \\Delta t P^t_x$$\n"
     ]
    },
    {
     "cell_type": "code",
     "collapsed": false,
     "input": [],
     "language": "python",
     "metadata": {},
     "outputs": []
    }
   ],
   "metadata": {}
  }
 ]
}