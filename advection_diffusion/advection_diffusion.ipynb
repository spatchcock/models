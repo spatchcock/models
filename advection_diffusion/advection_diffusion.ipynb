{
 "metadata": {
  "name": "",
  "signature": "sha256:c83586674f3bf1b88c7eef9fa12fa7383c5de5a0375f14e595b12a54f1ed414c"
 },
 "nbformat": 3,
 "nbformat_minor": 0,
 "worksheets": [
  {
   "cells": [
    {
     "cell_type": "markdown",
     "metadata": {},
     "source": [
      "$$ \\frac {\\partial C}{\\partial t} = D \\frac {\\partial^2 C}{\\partial x^2} - w \\frac {\\partial C}{\\partial x}$$"
     ]
    },
    {
     "cell_type": "markdown",
     "metadata": {},
     "source": [
      "Discretise the equation\n",
      "\n",
      "$$\\frac {C^{t+1}_{x} - C^{t}_{x}}{\\Delta t} = \\frac {D}{2} \\Bigg(\\frac {C^{t+1}_{x+1} - 2C^{t+1}_{x} + C^{t+1}_{x-1}}{\\Delta x^2} + \\frac {C^{t}_{x+1} - 2C^{t}_{x} + C^{t}_{x-1}}{\\Delta x^2} \\Bigg) -\\frac {w}{2} \\Bigg( \\frac {C^{t+1}_{x+1} - C^{t+1}_{x-1}}{2 \\Delta x} + \\frac {C^{t}_{x+1} - C^{t}_{x-1}}{2 \\Delta x} \\Bigg)$$\n",
      "\n",
      "$$C^{t+1}_{x} = C^{t}_{x} + \\frac {D \\Delta t}{2 \\Delta x^2} \\Bigg( C^{t+1}_{x+1} - 2C^{t+1}_{x} + C^{t+1}_{x-1} + C^{t}_{x+1} - 2C^{t}_{x} + C^{t}_{x-1} \\Bigg) - \\frac {w \\Delta t}{4\\Delta x} \\Bigg(C^{t+1}_{x+1} - C^{t+1}_{x-1} + C^{t}_{x+1} - C^{t}_{x-1} \\Bigg)$$\n",
      "\n",
      "if $\\frac {w \\Delta t}{4\\Delta x} = \\sigma$ and $\\frac {D \\Delta t}{2 \\Delta x^2} = \\lambda$\n",
      "\n",
      "$$C^{t+1}_{x} = C^{t}_{x} + \\lambda C^{t+1}_{x+1} - 2\\lambda C^{t+1}_{x} + \\lambda C^{t+1}_{x-1} + \\lambda C^{t}_{x+1} - 2\\lambda C^{t}_{x} + \\lambda C^{t}_{x-1} - \\sigma C^{t+1}_{x+1} + \\sigma C^{t+1}_{x-1} - \\sigma C^{t}_{x+1} + \\sigma C^{t}_{x-1}$$\n",
      "\n",
      "and rearranging,\n",
      "\n",
      "$$-(\\sigma + \\lambda)C^{t+1}_{x-1} + (1 + 2\\lambda)C^{t+1}_{x} + (\\sigma - \\lambda)C^{t+1}_{x+1} = (\\sigma + \\lambda) C^{t}_{x-1} + (1 - 2\\lambda)C^{t}_{x} + (\\lambda - \\sigma) C^{t}_{x+1}$$\n",
      "\n",
      "gives the discretised equation for $x > 1, x < L$.\n"
     ]
    },
    {
     "cell_type": "markdown",
     "metadata": {},
     "source": [
      "$$-(\\sigma + \\lambda)C^{t+1}_{-1} + (1 + 2\\lambda)C^{t+1}_{0} + (\\sigma - \\lambda)C^{t+1}_{1} = (\\sigma + \\lambda) C^{t}_{-1} + (1 - 2\\lambda)C^{t}_{0} + (\\lambda - \\sigma) C^{t}_{1}$$\n",
      "\n",
      "$$-(\\sigma + \\lambda)C^{t+1}_{0} + (1 + 2\\lambda)C^{t+1}_{0} + (\\sigma - \\lambda)C^{t+1}_{1} = (\\sigma + \\lambda)C^{t}_{0} + (1 - 2\\lambda)C^{t}_{0} + (\\lambda - \\sigma) C^{t}_{1}$$\n",
      "\n",
      "$$(1 - \\sigma + \\lambda)C^{t+1}_{0} + (\\sigma - \\lambda)C^{t+1}_{1} = (1 + \\sigma - \\lambda)C^{t}_{0} + (\\lambda - \\sigma) C^{t}_{1}$$\n",
      "\n",
      "\n",
      "\n",
      "$$-(\\sigma + \\lambda)C^{t+1}_{L-2} + (1 + 2\\lambda)C^{t+1}_{L-1} + (\\sigma - \\lambda)C^{t+1}_{L} = (\\sigma + \\lambda) C^{t}_{L-2} + (1 - 2\\lambda)C^{t}_{L-1} + (\\lambda - \\sigma) C^{t}_{L}$$\n",
      "\n",
      "$$-(\\sigma + \\lambda)C^{t+1}_{L-2} + (1 + 2\\lambda)C^{t+1}_{L-1} + (\\sigma - \\lambda)C^{t+1}_{L-1} = (\\sigma + \\lambda)C^{t}_{L-2} + (1 - 2\\lambda)C^{t}_{L-1} + (\\lambda - \\sigma) C^{t}_{L-1}$$\n",
      "\n",
      "$$-(\\sigma + \\lambda)C^{t+1}_{L-2} + (1 + \\sigma + \\lambda)C^{t+1}_{L-1} = (\\sigma + \\lambda)C^{t}_{L-2} + (1 - \\sigma - \\lambda)C^{t}_{L-1}$$\n"
     ]
    },
    {
     "cell_type": "markdown",
     "metadata": {},
     "source": [
      "\n",
      "$$\n",
      "\\begin{bmatrix}\n",
      "1-\\sigma + \\lambda & \\sigma - \\lambda & 0 & 0 & \\cdots & 0 & 0 & 0 & 0\\\\\\\\\n",
      "-(\\sigma + \\lambda) & 1 + 2 \\lambda & \\sigma - \\lambda & 0 & \\cdots & 0 & 0 & 0 & 0 \\\\\\\\\n",
      "0 & -(\\sigma + \\lambda) & 1 + 2 \\lambda & \\sigma - \\lambda & \\cdots & 0 & 0 & 0 & 0 \\\\\\\\\n",
      "0 & 0 & \\ddots & \\ddots & \\ddots & \\ddots & \\ddots & 0 & 0 \\\\\\\\\n",
      "0 & 0 & 0 & 0 & \\cdots & 0 & -(\\sigma + \\lambda) & 1 + 2 \\lambda & \\sigma - \\lambda \\\\\\\\\n",
      "0 & 0 & 0 & 0 & \\cdots & 0 & 0 & -(\\sigma + \\lambda) & 1+\\sigma+\\lambda\n",
      "\\end{bmatrix}\n",
      "\\begin{bmatrix}\n",
      "C_0^{t+1} \\\\\\\\\n",
      "C_1^{t+1} \\\\\\\\\n",
      "C_2^{t+1} \\\\\\\\\n",
      "\\vdots \\\\\\\\\n",
      "C_{L-2}^{t+1} \\\\\\\\\n",
      "C_{L-1}^{t+1}\n",
      "\\end{bmatrix} =\n",
      "\\begin{bmatrix}\n",
      "1+\\sigma-\\lambda & \\lambda-\\sigma & 0 & 0 & \\cdots & 0 & 0 & 0 & 0\\\\\\\\\n",
      "\\sigma + \\lambda & 1-2\\lambda & \\lambda-\\sigma & 0 & \\cdots & 0 & 0 & 0 & 0 \\\\\\\\\n",
      "0 & \\sigma + \\lambda & 1-2\\lambda & \\lambda-\\sigma & \\cdots & 0 & 0 & 0 & 0 \\\\\\\\\n",
      "0 & 0 & \\ddots & \\ddots & \\ddots & \\ddots & 0 & 0 & 0 \\\\\\\\\n",
      "0 & 0 & 0 & 0 & 0 & \\sigma + \\lambda & 1-2\\lambda & \\lambda-\\sigma & 0 \\\\\\\\\n",
      "0 & 0 & 0 & 0 & 0 & 0 & 0 & \\sigma+\\lambda & 1-\\sigma-\\lambda\n",
      "\\end{bmatrix}\n",
      "\\begin{bmatrix}\n",
      "C_0^{t} \\\\\\\\\n",
      "C_1^{t} \\\\\\\\\n",
      "C_2^{t} \\\\\\\\\n",
      "\\vdots \\\\\\\\\n",
      "C_{L-2}^{t} \\\\\\\\\n",
      "C_{L-1}^{t}\n",
      "\\end{bmatrix}\n",
      "$$"
     ]
    },
    {
     "cell_type": "code",
     "collapsed": false,
     "input": [],
     "language": "python",
     "metadata": {},
     "outputs": []
    }
   ],
   "metadata": {}
  }
 ]
}