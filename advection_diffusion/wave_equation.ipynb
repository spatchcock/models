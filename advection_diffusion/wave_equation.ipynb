{
 "metadata": {
  "name": "",
  "signature": "sha256:44cfd3d15087d07d39043228285f6f685472cc02b5d36e7d8bfbb46107c1366a"
 },
 "nbformat": 3,
 "nbformat_minor": 0,
 "worksheets": [
  {
   "cells": [
    {
     "cell_type": "markdown",
     "metadata": {},
     "source": [
      "$$ \\frac {\\partial^2 C}{dt^2} = c^2 \\frac {\\partial^2 C}{dx^2} $$"
     ]
    },
    {
     "cell_type": "markdown",
     "metadata": {},
     "source": [
      "$$\\frac {C^{t+1}_{x} - 2C^{t}_{x} + C^{t-1}_{x}}{\\Delta t^2} = c^2 \\frac {C^{t}_{x+1} - 2C^{t}_{x} + C^{t}_{x-1}}{\\Delta x^2}$$\n",
      "\n"
     ]
    },
    {
     "cell_type": "markdown",
     "metadata": {},
     "source": [
      "if $  \\alpha = \\frac {c \\Delta t}{\\Delta x} $\n",
      "\n",
      "$$ C^{t+1}_{x} = \\alpha^2 C^{t}_{x+1} + 2(1 - \\alpha^2)C^{t}_{x} + \\alpha^2 C^{t}_{x-1} - C^{t-1}_{x}$$"
     ]
    },
    {
     "cell_type": "code",
     "collapsed": false,
     "input": [
      "L = 1\n",
      "nx = 100\n",
      "dx = L/(nx+1)\n",
      "\n",
      "T = 100\n",
      "dt = 0.5*dx\n",
      "nx = (T/(dt))-1\n",
      "\n",
      "C = zeros()"
     ],
     "language": "python",
     "metadata": {},
     "outputs": []
    }
   ],
   "metadata": {}
  }
 ]
}