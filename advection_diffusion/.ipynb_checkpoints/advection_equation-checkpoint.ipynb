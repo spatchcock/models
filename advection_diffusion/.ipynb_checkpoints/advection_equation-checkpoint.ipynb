{
 "metadata": {
  "name": "",
  "signature": "sha256:2612dd6f6412f170d8177a685190a183a3a124b7163b5589fd37967c461b135d"
 },
 "nbformat": 3,
 "nbformat_minor": 0,
 "worksheets": [
  {
   "cells": [
    {
     "cell_type": "markdown",
     "metadata": {},
     "source": [
      "Advection equation\n"
     ]
    },
    {
     "cell_type": "markdown",
     "metadata": {},
     "source": [
      "$$\\frac {\\partial C}{\\partial t} = w \\frac {\\partial C}{\\partial x}$$\n",
      "\n",
      "$$\\frac {\\partial C}{\\partial x} \\Bigg |_{x = 0, L} = 0$$"
     ]
    },
    {
     "cell_type": "markdown",
     "metadata": {},
     "source": [
      "Discretise the equation\n",
      "\n",
      "$$\\frac {C^{t+1}_{x} - C^{t}_{x}}{\\Delta t} = \\frac {w}{2} \\Bigg( \\frac {C^{t+1}_{x+1} - C^{t+1}_{x-1}}{2 \\Delta x} - \\frac {C^{t}_{x+1} - C^{t}_{x-1}}{2 \\Delta x} \\Bigg)$$\n",
      "\n",
      "$$C^{t+1}_{x} = C^{t}_{x} + \\frac {w \\Delta t}{4\\Delta x} \\Bigg(C^{t+1}_{x+1} - C^{t+1}_{x-1} - C^{t}_{x+1} - C^{t}_{x-1} \\Bigg)$$\n",
      "\n",
      "if $\\frac {w \\Delta t}{4\\Delta x} = \\sigma$\n",
      "\n",
      "$$C^{t+1}_{x} = C^{t}_{x} + \\sigma C^{t+1}_{x+1} - \\sigma C^{t+1}_{x-1} - \\sigma C^{t}_{x+1} - \\sigma C^{t}_{x-1}$$\n",
      "\n",
      "and rearranging,\n",
      "\n",
      "$$\\sigma C^{t+1}_{x-1} + C^{t+1}_{x} - \\sigma C^{t+1}_{x+1} = - \\sigma C^{t}_{x-1} + C^{t}_{x} - \\sigma C^{t}_{x+1}$$\n",
      "\n",
      "gives the discretised equation for $x > 1, x < L$."
     ]
    },
    {
     "cell_type": "markdown",
     "metadata": {},
     "source": [
      "Discretise the boundary conditions\n",
      "\n",
      "$$\\frac {C^t_{0} - C^t_{-1}}{\\Delta x}  = 0$$\n",
      "\n",
      "$$C^t_{0} = C^t_{-1}$$\n",
      "\n",
      "$$\\frac {C^t_{L-1} - C^t_{L}}{\\Delta x}  = 0$$\n",
      "\n",
      "$$C^t_{L-1} = C^t_{L}$$\n",
      "\n",
      "So, from the above equation, at $x = 0$ we have\n",
      "\n",
      "$$\\sigma C^{t+1}_{-1} + C^{t+1}_{0} - \\sigma C^{t+1}_{1} = - \\sigma C^{t}_{-1} + C^{t}_{0} - \\sigma C^{t}_{1}$$\n",
      "\n",
      "and substituting in $C^t_{0} = C^t_{-1}$ and $C^{t+1}_{0} = C^{t+1}_{-1}$\n",
      "\n",
      "$$\\sigma C^{t+1}_{0} + C^{t+1}_{0} - \\sigma C^{t+1}_{1} = - \\sigma C^{t}_{0} + C^{t}_{0} - \\sigma C^{t}_{1}$$\n",
      "\n",
      "$$(1 + \\sigma)C^{t+1}_{0} - \\sigma C^{t+1}_{1} = (1 - \\sigma) C^{t}_{0} - \\sigma C^{t}_{1}$$\n",
      "\n",
      "And at $x = L-1$ we have\n",
      "\n",
      "$$\\sigma C^{t+1}_{L-2} + C^{t+1}_{L-1} - \\sigma C^{t+1}_{L} = - \\sigma C^{t}_{L-2} + C^{t}_{L-1} - \\sigma C^{t}_{L}$$\n",
      "\n",
      "and substituting in $C^t_{L} = C^t_{L-1}$ and $C^{t+1}_{L} = C^{t+1}_{L-1}$\n",
      "\n",
      "$$\\sigma C^{t+1}_{L-2} + C^{t+1}_{L-1} - \\sigma C^{t+1}_{L-1} = - \\sigma C^{t}_{L-2} + C^{t}_{L-1} - \\sigma C^{t}_{L-1}$$\n",
      "\n",
      "$$\\sigma C^{t+1}_{L-2} + (1 - \\sigma)C^{t+1}_{L-1} = - \\sigma C^{t}_{L-2} + (1 - \\sigma) C^{t}_{L-1}$$"
     ]
    },
    {
     "cell_type": "markdown",
     "metadata": {},
     "source": [
      "\n",
      "$$\n",
      "\\begin{bmatrix}\n",
      "1+\\sigma & -\\sigma & 0 & 0 & \\cdots & 0 & 0 & 0 & 0\\\\\\\\\n",
      "\\sigma & 1 & -\\sigma & 0 & \\cdots & 0 & 0 & 0 & 0 \\\\\\\\\n",
      "0 & \\sigma & 1 & -\\sigma & \\cdots & 0 & 0 & 0 & 0 \\\\\\\\\n",
      "0 & 0 & \\ddots & \\ddots & \\ddots & \\ddots & 0 & 0 & 0 \\\\\\\\\n",
      "0 & 0 & 0 & 0 & \\cdots & 0 & \\sigma & 1 & -\\sigma \\\\\\\\\n",
      "0 & 0 & 0 & 0 & \\cdots & 0 & 0 & \\sigma & 1-\\sigma\n",
      "\\end{bmatrix}\n",
      "\\begin{bmatrix}\n",
      "C_0^{t+1} \\\\\\\\\n",
      "C_1^{t+1} \\\\\\\\\n",
      "C_2^{t+1} \\\\\\\\\n",
      "\\vdots \\\\\\\\\n",
      "C_{L-2}^{t+1} \\\\\\\\\n",
      "C_{L-1}^{t+1}\n",
      "\\end{bmatrix} =\n",
      "\\begin{bmatrix}\n",
      "1-\\sigma & -\\sigma & 0 & 0 & \\cdots & 0 & 0 & 0 & 0\\\\\\\\\n",
      "-\\sigma & 1 & -\\sigma & 0 & \\cdots & 0 & 0 & 0 & 0 \\\\\\\\\n",
      "0 & -\\sigma & 1 & -\\sigma & \\cdots & 0 & 0 & 0 & 0 \\\\\\\\\n",
      "0 & 0 & \\ddots & \\ddots & \\ddots & \\ddots & 0 & 0 & 0 \\\\\\\\\n",
      "0 & 0 & 0 & 0 & 0 & 0 & -\\sigma & 1 & -\\sigma \\\\\\\\\n",
      "0 & 0 & 0 & 0 & 0 & 0 & 0 & -\\sigma & 1-\\sigma\n",
      "\\end{bmatrix}\n",
      "\\begin{bmatrix}\n",
      "C_0^{t} \\\\\\\\\n",
      "C_1^{t} \\\\\\\\\n",
      "C_2^{t} \\\\\\\\\n",
      "\\vdots \\\\\\\\\n",
      "C_{L-2}^{t} \\\\\\\\\n",
      "C_{L-1}^{t}\n",
      "\\end{bmatrix}\n",
      "$$"
     ]
    },
    {
     "cell_type": "code",
     "collapsed": false,
     "input": [
      "import numpy\n",
      "from matplotlib import pyplot"
     ],
     "language": "python",
     "metadata": {},
     "outputs": [],
     "prompt_number": 1
    },
    {
     "cell_type": "code",
     "collapsed": false,
     "input": [
      "numpy.set_printoptions(precision=3)\n"
     ],
     "language": "python",
     "metadata": {},
     "outputs": [],
     "prompt_number": 2
    },
    {
     "cell_type": "code",
     "collapsed": false,
     "input": [
      "L = 1.\n",
      "J = 100\n",
      "dx = float(L)/float(J-1)\n",
      "x_grid = numpy.array([j*dx for j in range(J)])"
     ],
     "language": "python",
     "metadata": {},
     "outputs": [],
     "prompt_number": 3
    },
    {
     "cell_type": "code",
     "collapsed": false,
     "input": [
      "T = 200\n",
      "N = 1000\n",
      "dt = float(T)/float(N-1)\n",
      "t_grid = numpy.array([n*dt for n in range(N)])"
     ],
     "language": "python",
     "metadata": {},
     "outputs": [],
     "prompt_number": 4
    },
    {
     "cell_type": "code",
     "collapsed": false,
     "input": [
      "w = 0.1\n",
      "sigma = float(w*dt)/float((4.*dx))\n"
     ],
     "language": "python",
     "metadata": {},
     "outputs": [],
     "prompt_number": 54
    },
    {
     "cell_type": "code",
     "collapsed": false,
     "input": [
      "C =  numpy.zeros(J)\n",
      "C[10:20] = 5"
     ],
     "language": "python",
     "metadata": {},
     "outputs": [],
     "prompt_number": 55
    },
    {
     "cell_type": "code",
     "collapsed": false,
     "input": [
      "print(C)"
     ],
     "language": "python",
     "metadata": {},
     "outputs": [
      {
       "output_type": "stream",
       "stream": "stdout",
       "text": [
        "[ 0.  0.  0.  0.  0.  0.  0.  0.  0.  0.  5.  5.  5.  5.  5.  5.  5.  5.\n",
        "  5.  5.  0.  0.  0.  0.  0.  0.  0.  0.  0.  0.  0.  0.  0.  0.  0.  0.\n",
        "  0.  0.  0.  0.  0.  0.  0.  0.  0.  0.  0.  0.  0.  0.  0.  0.  0.  0.\n",
        "  0.  0.  0.  0.  0.  0.  0.  0.  0.  0.  0.  0.  0.  0.  0.  0.  0.  0.\n",
        "  0.  0.  0.  0.  0.  0.  0.  0.  0.  0.  0.  0.  0.  0.  0.  0.  0.  0.\n",
        "  0.  0.  0.  0.  0.  0.  0.  0.  0.  0.]\n"
       ]
      }
     ],
     "prompt_number": 56
    },
    {
     "cell_type": "code",
     "collapsed": false,
     "input": [
      "A_C = numpy.diagflat([sigma for i in range(J-1)], -1) +\\\n",
      "      numpy.diagflat([1.+sigma]+[1 for i in range(J-2)]+[1.-sigma]) +\\\n",
      "      numpy.diagflat([-sigma for i in range(J-1)], 1)\n",
      "        \n",
      "B_C = numpy.diagflat([-sigma for i in range(J-1)], -1) +\\\n",
      "      numpy.diagflat([1.-sigma]+[1. for i in range(J-2)]+[1.-sigma]) +\\\n",
      "      numpy.diagflat([-sigma for i in range(J-1)], 1)"
     ],
     "language": "python",
     "metadata": {},
     "outputs": [],
     "prompt_number": 57
    },
    {
     "cell_type": "code",
     "collapsed": false,
     "input": [
      "print(A_C)\n"
     ],
     "language": "python",
     "metadata": {},
     "outputs": [
      {
       "output_type": "stream",
       "stream": "stdout",
       "text": [
        "[[ 1.495 -0.495  0.    ...,  0.     0.     0.   ]\n",
        " [ 0.495  1.    -0.495 ...,  0.     0.     0.   ]\n",
        " [ 0.     0.495  1.    ...,  0.     0.     0.   ]\n",
        " ..., \n",
        " [ 0.     0.     0.    ...,  1.    -0.495  0.   ]\n",
        " [ 0.     0.     0.    ...,  0.495  1.    -0.495]\n",
        " [ 0.     0.     0.    ...,  0.     0.495  0.505]]\n"
       ]
      }
     ],
     "prompt_number": 58
    },
    {
     "cell_type": "code",
     "collapsed": false,
     "input": [
      "print(B_C)"
     ],
     "language": "python",
     "metadata": {},
     "outputs": [
      {
       "output_type": "stream",
       "stream": "stdout",
       "text": [
        "[[ 0.505 -0.495  0.    ...,  0.     0.     0.   ]\n",
        " [-0.495  1.    -0.495 ...,  0.     0.     0.   ]\n",
        " [ 0.    -0.495  1.    ...,  0.     0.     0.   ]\n",
        " ..., \n",
        " [ 0.     0.     0.    ...,  1.    -0.495  0.   ]\n",
        " [ 0.     0.     0.    ..., -0.495  1.    -0.495]\n",
        " [ 0.     0.     0.    ...,  0.    -0.495  0.505]]\n"
       ]
      }
     ],
     "prompt_number": 59
    },
    {
     "cell_type": "code",
     "collapsed": false,
     "input": [
      "C_record = []\n",
      "\n",
      "C_record.append(C)\n",
      "\n",
      "\n",
      "\n",
      "print(C)"
     ],
     "language": "python",
     "metadata": {},
     "outputs": [
      {
       "output_type": "stream",
       "stream": "stdout",
       "text": [
        "[ 0.  0.  0.  0.  0.  0.  0.  0.  0.  0.  5.  5.  5.  5.  5.  5.  5.  5.\n",
        "  5.  5.  0.  0.  0.  0.  0.  0.  0.  0.  0.  0.  0.  0.  0.  0.  0.  0.\n",
        "  0.  0.  0.  0.  0.  0.  0.  0.  0.  0.  0.  0.  0.  0.  0.  0.  0.  0.\n",
        "  0.  0.  0.  0.  0.  0.  0.  0.  0.  0.  0.  0.  0.  0.  0.  0.  0.  0.\n",
        "  0.  0.  0.  0.  0.  0.  0.  0.  0.  0.  0.  0.  0.  0.  0.  0.  0.  0.\n",
        "  0.  0.  0.  0.  0.  0.  0.  0.  0.  0.]\n"
       ]
      }
     ],
     "prompt_number": 60
    },
    {
     "cell_type": "code",
     "collapsed": false,
     "input": [
      "for ti in range(1,2):\n",
      "    C_new = numpy.linalg.solve(A_C, B_C.dot(C))\n",
      "    \n",
      "    C = C_new\n",
      "    C\n",
      "    C_record.append(C)\n",
      "\n",
      "print(C)"
     ],
     "language": "python",
     "metadata": {},
     "outputs": [
      {
       "output_type": "stream",
       "stream": "stdout",
       "text": [
        "[ -2.843e-04  -8.581e-04  -2.016e-03  -4.927e-03  -1.196e-02  -2.906e-02\n",
        "  -7.062e-02  -1.716e-01  -4.169e-01  -1.013e+00   2.539e+00  -9.803e-01\n",
        "   4.694e-01  -1.238e-01   1.285e-01   4.467e-02   1.278e-01   2.117e-01\n",
        "   4.641e-01   1.057e+00  -2.493e+00   1.026e+00  -4.223e-01   1.738e-01\n",
        "  -7.153e-02   2.944e-02  -1.212e-02   4.986e-03  -2.052e-03   8.446e-04\n",
        "  -3.476e-04   1.431e-04  -5.888e-05   2.423e-05  -9.974e-06   4.105e-06\n",
        "  -1.689e-06   6.953e-07  -2.862e-07   1.178e-07  -4.847e-08   1.995e-08\n",
        "  -8.211e-09   3.379e-09  -1.391e-09   5.724e-10  -2.356e-10   9.695e-11\n",
        "  -3.990e-11   1.642e-11  -6.759e-12   2.782e-12  -1.145e-12   4.712e-13\n",
        "  -1.939e-13   7.981e-14  -3.285e-14   1.352e-14  -5.564e-15   2.290e-15\n",
        "  -9.425e-16   3.879e-16  -1.596e-16   6.570e-17  -2.704e-17   1.113e-17\n",
        "  -4.580e-18   1.885e-18  -7.759e-19   3.193e-19  -1.314e-19   5.409e-20\n",
        "  -2.226e-20   9.162e-21  -3.771e-21   1.552e-21  -6.387e-22   2.629e-22\n",
        "  -1.082e-22   4.453e-23  -1.833e-23   7.542e-24  -3.104e-24   1.278e-24\n",
        "  -5.258e-25   2.164e-25  -8.906e-26   3.665e-26  -1.509e-26   6.209e-27\n",
        "  -2.555e-27   1.052e-27  -4.328e-28   1.781e-28  -7.331e-29   3.020e-29\n",
        "  -1.236e-29   5.256e-30  -1.752e-30   1.720e-30]\n"
       ]
      }
     ],
     "prompt_number": 62
    },
    {
     "cell_type": "code",
     "collapsed": false,
     "input": [
      "pyplot.ylim((0., 10.))\n",
      "pyplot.xlabel('x')\n",
      "pyplot.ylabel('concentration')\n",
      "pyplot.plot(x_grid, C)\n",
      "pyplot.show()"
     ],
     "language": "python",
     "metadata": {},
     "outputs": [],
     "prompt_number": 63
    },
    {
     "cell_type": "code",
     "collapsed": false,
     "input": [
      "print(x_grid)"
     ],
     "language": "python",
     "metadata": {},
     "outputs": [
      {
       "output_type": "stream",
       "stream": "stdout",
       "text": [
        "[ 0.     0.01   0.02   0.03   0.04   0.051  0.061  0.071  0.081  0.091\n",
        "  0.101  0.111  0.121  0.131  0.141  0.152  0.162  0.172  0.182  0.192\n",
        "  0.202  0.212  0.222  0.232  0.242  0.253  0.263  0.273  0.283  0.293\n",
        "  0.303  0.313  0.323  0.333  0.343  0.354  0.364  0.374  0.384  0.394\n",
        "  0.404  0.414  0.424  0.434  0.444  0.455  0.465  0.475  0.485  0.495\n",
        "  0.505  0.515  0.525  0.535  0.545  0.556  0.566  0.576  0.586  0.596\n",
        "  0.606  0.616  0.626  0.636  0.646  0.657  0.667  0.677  0.687  0.697\n",
        "  0.707  0.717  0.727  0.737  0.747  0.758  0.768  0.778  0.788  0.798\n",
        "  0.808  0.818  0.828  0.838  0.848  0.859  0.869  0.879  0.889  0.899\n",
        "  0.909  0.919  0.929  0.939  0.949  0.96   0.97   0.98   0.99   1.   ]\n"
       ]
      }
     ],
     "prompt_number": 31
    },
    {
     "cell_type": "code",
     "collapsed": false,
     "input": [],
     "language": "python",
     "metadata": {},
     "outputs": []
    }
   ],
   "metadata": {}
  }
 ]
}