{
 "metadata": {
  "name": "",
  "signature": "sha256:cd91f71ba8ebb6a5861fe8f12ae2817a8f2df82de12170ed702abb2372c380b5"
 },
 "nbformat": 3,
 "nbformat_minor": 0,
 "worksheets": []
}